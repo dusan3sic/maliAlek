{
  "nbformat": 4,
  "nbformat_minor": 0,
  "metadata": {
    "colab": {
      "name": "Untitled3.ipynb",
      "provenance": [],
      "collapsed_sections": [],
      "authorship_tag": "ABX9TyNI6CcTbeukpWK0fqDewtnE",
      "include_colab_link": true
    },
    "kernelspec": {
      "name": "python3",
      "display_name": "Python 3"
    },
    "language_info": {
      "name": "python"
    }
  },
  "cells": [
    {
      "cell_type": "markdown",
      "metadata": {
        "id": "view-in-github",
        "colab_type": "text"
      },
      "source": [
        "<a href=\"https://colab.research.google.com/github/dusan3sic/maliAlek/blob/main/maliAlek.ipynb\" target=\"_parent\"><img src=\"https://colab.research.google.com/assets/colab-badge.svg\" alt=\"Open In Colab\"/></a>"
      ]
    },
    {
      "cell_type": "code",
      "execution_count": null,
      "metadata": {
        "id": "8BSrsFG49_T9"
      },
      "outputs": [],
      "source": [
        "import numpy as np\n",
        "import wave\n",
        "import math\n",
        "import librosa.feature\n",
        "from funkcije import *\n",
        "from pomagala import *"
      ]
    },
    {
      "cell_type": "code",
      "source": [
        "sampleRate = 48000#Hz\n",
        "segmentDuration = 26#ms\n",
        "framesInSegment = segmentDuration * sampleRate // 1000\n",
        "\n",
        "raw = wave.open(\"ulaz.wav\")\n",
        "# raw = wave.open(\"./maliAlek/untitled.wav\")\n",
        "signal = raw.readframes(-1)\n",
        "fs = raw.getframerate()\n",
        "\n",
        "signal = np.frombuffer(signal, dtype =\"int16\").astype(\"float64\")\n",
        "signal = signal[:(len(signal) // framesInSegment) * framesInSegment]"
      ],
      "metadata": {
        "id": "GuSylJ1M-QRi"
      },
      "execution_count": null,
      "outputs": []
    },
    {
      "cell_type": "code",
      "source": [
        "sampleRate = 48000#Hz\n",
        "segmentDuration = 26#ms\n",
        "framesInSegment = segmentDuration * sampleRate // 1000\n"
      ],
      "metadata": {
        "id": "V-1_vApQ-YEY"
      },
      "execution_count": null,
      "outputs": []
    }
  ]
}