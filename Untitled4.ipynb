{
  "nbformat": 4,
  "nbformat_minor": 0,
  "metadata": {
    "colab": {
      "name": "Untitled4.ipynb",
      "provenance": [],
      "collapsed_sections": [],
      "authorship_tag": "ABX9TyO3tusYKdsRXtQAvu8cChTk",
      "include_colab_link": true
    },
    "kernelspec": {
      "name": "python3",
      "display_name": "Python 3"
    },
    "language_info": {
      "name": "python"
    }
  },
  "cells": [
    {
      "cell_type": "markdown",
      "metadata": {
        "id": "view-in-github",
        "colab_type": "text"
      },
      "source": [
        "<a href=\"https://colab.research.google.com/github/dusan3sic/maliAlek/blob/main/Untitled4.ipynb\" target=\"_parent\"><img src=\"https://colab.research.google.com/assets/colab-badge.svg\" alt=\"Open In Colab\"/></a>"
      ]
    },
    {
      "cell_type": "code",
      "source": [
        "end_state = 200\n",
        "sensitivity = 3 / 100\n",
        "razlika = int(end_state * sensitivity)\n",
        "minSigurno = 0.65"
      ],
      "metadata": {
        "id": "nZp49dy5XHxF"
      },
      "execution_count": 153,
      "outputs": []
    },
    {
      "cell_type": "code",
      "source": [
        "import numpy as np\n",
        "import random\n",
        "https://trello.com/b/cBv5y6W5/mali-alek"
      ],
      "metadata": {
        "id": "SNzg_EDocx9M"
      },
      "execution_count": 154,
      "outputs": []
    },
    {
      "cell_type": "code",
      "source": [
        "def generisiProbable():\n",
        "\n",
        "  niz = np.zeros(200)\n",
        "  niz = niz + 0.1\n",
        "\n",
        "  elementi = []\n",
        "\n",
        "  brojSigurnih = random.randint(1, 5)\n",
        "  while(len(elementi) <= brojSigurnih):\n",
        "    index = random.randint(0, len(niz) - 1)\n",
        "    povecaj = random.random() * (1 - minSigurno) + minSigurno\n",
        "    if(niz[index] < minSigurno): elementi.append([index, povecaj])\n",
        "  \n",
        "  window = signal.windows.hann(5)\n",
        "  window *= (1 - 0.92)\n",
        "  window += 0.92\n",
        "\n",
        "  for i, e in enumerate(elementi):\n",
        "    for j in range(5):\n",
        "      povecaj = window[j] * e[1]\n",
        "      niz[min(len(niz) - 1, e[0] + j)] = povecaj\n",
        "  \n",
        "  return niz"
      ],
      "metadata": {
        "id": "mmYrb3ttgDop"
      },
      "execution_count": 155,
      "outputs": []
    },
    {
      "cell_type": "code",
      "execution_count": 156,
      "metadata": {
        "id": "KcWfpXAlD2Pk"
      },
      "outputs": [],
      "source": [
        "def activate():\n",
        "  print(\"AKTIVIRAN SAM IDE GAS SMRT SVETU\")"
      ]
    },
    {
      "cell_type": "code",
      "source": [
        "def resenjeKraj(niz, state):\n",
        "    peaks = []\n",
        "    zadnji = 0\n",
        "\n",
        "    for i in range(state, len(niz) - 1):\n",
        "      procenat = niz[i]\n",
        "      if(procenat > minSigurno):\n",
        "        if(procenat > zadnji and procenat > niz[i + 1]):\n",
        "          peaks.append(i)\n",
        "        zadnji = procenat\n",
        "      else: zadnji = 0\n",
        "    \n",
        "    return peaks"
      ],
      "metadata": {
        "id": "VweEf4RBeZE1"
      },
      "execution_count": 158,
      "outputs": []
    },
    {
      "cell_type": "code",
      "source": [
        "def resenjePocetak(niz, state):\n",
        "    \n",
        "    #gledanje od nastavka\n",
        "    maxi = 0\n",
        "    res = -1\n",
        "    for i in range(-2, razlika - 2):\n",
        "      index = i + state\n",
        "      if(index > 0 and index < len(niz) - 1):\n",
        "        if(niz[index] > maxi and niz[index] > minSigurno):\n",
        "          maxi = niz[index]\n",
        "          res = index\n",
        "        elif(niz[index] == maxi and abs(state - res) > abs(state - index)): res = index\n",
        "\n",
        "\n",
        "    if(maxi > minSigurno): return res\n",
        "    return -1"
      ],
      "metadata": {
        "id": "HKF6OiToXzDv"
      },
      "execution_count": 159,
      "outputs": []
    },
    {
      "cell_type": "code",
      "source": [
        "state = 0\n",
        "A = -1\n",
        "B = []\n",
        "pocetak = []\n",
        "kraj = []\n",
        "tempo = 0\n",
        "brojac = 0"
      ],
      "metadata": {
        "id": "__Hezt6SGxVq"
      },
      "execution_count": 160,
      "outputs": []
    },
    {
      "cell_type": "code",
      "source": [
        "radi = 0\n",
        "while(end_state - state >= razlika): #ponavljaj dok ne dodje do kraja... ili umre\n",
        "  print(state, radi)\n",
        "  if(radi == 0):    #algoritam ima dva stanja 1 i 0, 0 kad je na pocetku i 1 kada nastavlja sa radom\n",
        "    state = 0\n",
        "    tempo = 0\n",
        "    brojac = 0\n",
        "\n",
        "    pocetak = generisiProbable()  #random generacija procenata pocetka i kraja \n",
        "    kraj = generisiProbable()\n",
        "\n",
        "    A = resenjePocetak(pocetak, 0)  #da li je ovaj segment na pocetku (-1 ako ne ili index pocetka)\n",
        "    B = resenjeKraj(kraj, 0)        #na koje sve krajeve segmenata lici ovaj segment\n",
        "\n",
        "    if(A != -1): radi = 1           #ako pocetak odgovoara nastavlajmo u sledecu fazu\n",
        "  else:\n",
        "      pocetak = generisiProbable()    \n",
        "      for i in range(-(razlika // 2), razlika // 2):\n",
        "        d = tempo + i\n",
        "        if(d >= 0 and d < len(kraj)): kraj[d] *= 1.5\n",
        "      maks = -1\n",
        "      indeks = -1\n",
        "\n",
        "      for i, b in enumerate(B): #prolazanje kroz svaki potencijalni zavrsetak prethodnog segmenta i gledanje da li pocetak novog odgovara nekom\n",
        "        A = resenjePocetak(pocetak, b) \n",
        "        if(A != -1):\n",
        "\n",
        "          if(pocetak[A] + kraj[b] > maks):\n",
        "            indeks = A\n",
        "            maks = pocetak[A] + kraj[b]\n",
        "      \n",
        "      if(indeks != -1):                   #ako nadje bilo sta uzima najverovatniji\n",
        "        kraj = generisiProbable()         \n",
        "        B = resenjeKraj(kraj, indeks)     \n",
        "        tempo = (brojac * tempo + indeks - state) // max(brojac, 1)     #racunanje prosecne brzine pricanja reci\n",
        "        brojac += 1\n",
        "        state = indeks        \n",
        "      else:                             \n",
        "        A = resenjePocetak(pocetak, 0)              #gledanje da li je ovo pocetak reci\n",
        "        if(A == -1): radi = 0\n",
        "        else:                                       \n",
        "          kraj = generisiProbable()\n",
        "          B = resenjeKraj(kraj, 0)\n",
        "          state = 0\n",
        "          tempo = 0\n",
        "          brojac = 0\n",
        "  \n",
        "  \n",
        "\n",
        "activate()          #jedini nacin da se zavrsi petlja je da se dodje do kraja asm-a"
      ],
      "metadata": {
        "id": "Juozhnh3HtA1"
      },
      "execution_count": null,
      "outputs": []
    }
  ]
}