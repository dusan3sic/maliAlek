{
  "nbformat": 4,
  "nbformat_minor": 0,
  "metadata": {
    "colab": {
      "name": "Untitled4.ipynb",
      "provenance": [],
      "collapsed_sections": [],
      "authorship_tag": "ABX9TyPCmLnWpDtPlo4vEZK5hs1M",
      "include_colab_link": true
    },
    "kernelspec": {
      "name": "python3",
      "display_name": "Python 3"
    },
    "language_info": {
      "name": "python"
    }
  },
  "cells": [
    {
      "cell_type": "markdown",
      "metadata": {
        "id": "view-in-github",
        "colab_type": "text"
      },
      "source": [
        "<a href=\"https://colab.research.google.com/github/dusan3sic/maliAlek/blob/main/Untitled4.ipynb\" target=\"_parent\"><img src=\"https://colab.research.google.com/assets/colab-badge.svg\" alt=\"Open In Colab\"/></a>"
      ]
    },
    {
      "cell_type": "code",
      "source": [
        "import numpy as np\n",
        "import random"
      ],
      "metadata": {
        "colab": {
          "base_uri": "https://localhost:8080/",
          "height": 348
        },
        "id": "SNzg_EDocx9M",
        "outputId": "6cd1bd6a-e225-400b-e635-1e667fc67dda"
      },
      "execution_count": 2,
      "outputs": [
        {
          "output_type": "error",
          "ename": "ModuleNotFoundError",
          "evalue": "ignored",
          "traceback": [
            "\u001b[0;31m---------------------------------------------------------------------------\u001b[0m",
            "\u001b[0;31mModuleNotFoundError\u001b[0m                       Traceback (most recent call last)",
            "\u001b[0;32m<ipython-input-2-ac41d3f5c5f1>\u001b[0m in \u001b[0;36m<module>\u001b[0;34m\u001b[0m\n\u001b[1;32m      1\u001b[0m \u001b[0;32mimport\u001b[0m \u001b[0mnumpy\u001b[0m \u001b[0;32mas\u001b[0m \u001b[0mnp\u001b[0m\u001b[0;34m\u001b[0m\u001b[0;34m\u001b[0m\u001b[0m\n\u001b[1;32m      2\u001b[0m \u001b[0;32mimport\u001b[0m \u001b[0mrandom\u001b[0m\u001b[0;34m\u001b[0m\u001b[0;34m\u001b[0m\u001b[0m\n\u001b[0;32m----> 3\u001b[0;31m \u001b[0;32mfrom\u001b[0m \u001b[0mfunkcije\u001b[0m\u001b[0;34m.\u001b[0m\u001b[0mpy\u001b[0m \u001b[0;32mimport\u001b[0m \u001b[0;34m*\u001b[0m\u001b[0;34m\u001b[0m\u001b[0;34m\u001b[0m\u001b[0m\n\u001b[0m",
            "\u001b[0;31mModuleNotFoundError\u001b[0m: No module named 'funkcije.py'; 'funkcije' is not a package",
            "",
            "\u001b[0;31m---------------------------------------------------------------------------\u001b[0;32m\nNOTE: If your import is failing due to a missing package, you can\nmanually install dependencies using either !pip or !apt.\n\nTo view examples of installing some common dependencies, click the\n\"Open Examples\" button below.\n\u001b[0;31m---------------------------------------------------------------------------\u001b[0m\n"
          ],
          "errorDetails": {
            "actions": [
              {
                "action": "open_url",
                "actionText": "Open Examples",
                "url": "/notebooks/snippets/importing_libraries.ipynb"
              }
            ]
          }
        }
      ]
    },
    {
      "cell_type": "code",
      "source": [
        "def generisiProbable():\n",
        "  minSigurno = 0.6\n",
        "\n",
        "  niz = np.zeros(200)\n",
        "  niz = niz + 0.1\n",
        "\n",
        "  brojSigurnih = random.randint(1, 5)\n",
        "  brojac = 0\n",
        "  while(brojac <= brojSigurnih):\n",
        "    index = random.randint(0, len(niz))\n",
        "    povecaj = (random.random() + minSigurno) / (1 + minSigurno)\n",
        "    if(niz[index] < minSigurno):\n",
        "      niz[index] = povecaj\n",
        "      brojac += 1\n",
        "  \n",
        "  return niz"
      ],
      "metadata": {
        "id": "mmYrb3ttgDop"
      },
      "execution_count": 3,
      "outputs": []
    },
    {
      "cell_type": "code",
      "execution_count": 4,
      "metadata": {
        "id": "KcWfpXAlD2Pk"
      },
      "outputs": [],
      "source": [
        "def activate():\n",
        "  print(\"AKTIVIRAN SAM IDE GAS SMRT SVETU\")"
      ]
    },
    {
      "cell_type": "code",
      "source": [
        "class Segment:\n",
        "  def __init__(self, pocetak, kraj):\n",
        "    self.pocetak = pocetak\n",
        "    self.kraj = kraj"
      ],
      "metadata": {
        "id": "iUE0DPw9UR7D"
      },
      "execution_count": 5,
      "outputs": []
    },
    {
      "cell_type": "code",
      "source": [
        "end_state = 200\n",
        "sensitivity = 0.05\n",
        "razlika = end_state * sensitivity"
      ],
      "metadata": {
        "id": "nZp49dy5XHxF"
      },
      "execution_count": 6,
      "outputs": []
    },
    {
      "cell_type": "code",
      "source": [
        "def jednako(broj1, broj2):\n",
        "  if(abs(broj1 - broj2) <= razlika): return True\n",
        "  return False"
      ],
      "metadata": {
        "id": "HKF6OiToXzDv"
      },
      "execution_count": 7,
      "outputs": []
    },
    {
      "cell_type": "code",
      "source": [
        "def next_state(state, start, end):\n",
        "  if(jednako(state, start) or jednako(start, 0)): return end\n",
        "  return 0"
      ],
      "metadata": {
        "id": "SMCa_tHBXiS1"
      },
      "execution_count": 8,
      "outputs": []
    },
    {
      "cell_type": "code",
      "source": [
        "# state = 0\n",
        "# while(not jednako(state, end_state)):\n",
        "#   ulaz = list(map(int, input(str(state) +  \":\\t\").split(\" \")))\n",
        "#   segment = Segment(ulaz[0], ulaz[1])\n",
        "#   state = next_state(state, segment.pocetak, segment.kraj)\n",
        "\n",
        "#   # if(state == segment.pocetak): state = segment.kraj\n",
        "#   # elif(segment.pocetak == 0): state = segment.kraj\n",
        "#   # else: state = 0\n",
        "\n",
        "# activate()\n",
        "niz = generisiProbable()\n",
        "print(niz)"
      ],
      "metadata": {
        "colab": {
          "base_uri": "https://localhost:8080/"
        },
        "id": "yGaOKne-T6iQ",
        "outputId": "07a24711-9280-4574-c5e5-54c1bdfd46e5"
      },
      "execution_count": 9,
      "outputs": [
        {
          "output_type": "stream",
          "name": "stdout",
          "text": [
            "[0.1        0.1        0.1        0.1        0.1        0.1\n",
            " 0.1        0.1        0.1        0.1        0.1        0.1\n",
            " 0.1        0.1        0.1        0.1        0.1        0.1\n",
            " 0.1        0.1        0.1        0.1        0.1        0.1\n",
            " 0.1        0.1        0.1        0.1        0.1        0.1\n",
            " 0.1        0.1        0.1        0.1        0.1        0.1\n",
            " 0.1        0.1        0.1        0.1        0.1        0.1\n",
            " 0.1        0.1        0.1        0.1        0.1        0.1\n",
            " 0.1        0.1        0.1        0.1        0.1        0.1\n",
            " 0.1        0.1        0.1        0.1        0.1        0.1\n",
            " 0.1        0.1        0.1        0.1        0.1        0.1\n",
            " 0.1        0.1        0.1        0.1        0.1        0.1\n",
            " 0.1        0.1        0.1        0.1        0.1        0.1\n",
            " 0.1        0.1        0.1        0.1        0.1        0.1\n",
            " 0.1        0.1        0.1        0.1        0.1        0.1\n",
            " 0.1        0.1        0.1        0.1        0.1        0.1\n",
            " 0.1        0.1        0.1        0.1        0.1        0.1\n",
            " 0.1        0.1        0.1        0.1        0.1        0.1\n",
            " 0.1        0.1        0.1        0.1        0.1        0.1\n",
            " 0.1        0.1        0.1        0.1        0.1        0.9545603\n",
            " 0.1        0.1        0.1        0.1        0.1        0.1\n",
            " 0.1        0.1        0.1        0.1        0.1        0.1\n",
            " 0.1        0.1        0.1        0.1        0.1        0.1\n",
            " 0.1        0.82750177 0.1        0.1        0.1        0.1\n",
            " 0.1        0.1        0.1        0.1        0.1        0.1\n",
            " 0.1        0.1        0.1        0.1        0.1        0.1\n",
            " 0.1        0.1        0.1        0.1        0.1        0.1\n",
            " 0.1        0.1        0.1        0.1        0.1        0.1\n",
            " 0.1        0.1        0.1        0.1        0.1        0.1\n",
            " 0.1        0.1        0.1        0.1        0.1        0.1\n",
            " 0.1        0.1        0.1        0.1        0.1        0.1\n",
            " 0.1        0.1        0.1        0.1        0.1        0.1\n",
            " 0.1        0.1        0.1        0.1        0.1        0.1\n",
            " 0.1        0.1       ]\n"
          ]
        }
      ]
    }
  ]
}