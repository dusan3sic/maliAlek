{
  "nbformat": 4,
  "nbformat_minor": 0,
  "metadata": {
    "colab": {
      "name": "Untitled4.ipynb",
      "provenance": [],
      "collapsed_sections": [],
      "authorship_tag": "ABX9TyO9bfHiMBLkJuW1+30fRutp",
      "include_colab_link": true
    },
    "kernelspec": {
      "name": "python3",
      "display_name": "Python 3"
    },
    "language_info": {
      "name": "python"
    }
  },
  "cells": [
    {
      "cell_type": "markdown",
      "metadata": {
        "id": "view-in-github",
        "colab_type": "text"
      },
      "source": [
        "<a href=\"https://colab.research.google.com/github/dusan3sic/maliAlek/blob/main/Untitled4.ipynb\" target=\"_parent\"><img src=\"https://colab.research.google.com/assets/colab-badge.svg\" alt=\"Open In Colab\"/></a>"
      ]
    },
    {
      "cell_type": "code",
      "source": [
        "end_state = 200\n",
        "sensitivity = 3 / 100\n",
        "razlika = int(end_state * sensitivity)\n",
        "minSigurno = 0.65"
      ],
      "metadata": {
        "id": "nZp49dy5XHxF"
      },
      "execution_count": 658,
      "outputs": []
    },
    {
      "cell_type": "code",
      "source": [
        "import numpy as np\n",
        "import random\n",
        "from scipy import signal"
      ],
      "metadata": {
        "id": "SNzg_EDocx9M"
      },
      "execution_count": 659,
      "outputs": []
    },
    {
      "cell_type": "code",
      "source": [
        "def generisiProbable():\n",
        "\n",
        "  niz = np.zeros(200)\n",
        "  niz = niz + 0.1\n",
        "\n",
        "  elementi = []\n",
        "\n",
        "  brojSigurnih = random.randint(1, 5)\n",
        "  while(len(elementi) <= brojSigurnih):\n",
        "    index = random.randint(0, len(niz) - 1)\n",
        "    povecaj = random.random() * (1 - minSigurno) + minSigurno\n",
        "    if(niz[index] < minSigurno): elementi.append([index, povecaj])\n",
        "  \n",
        "  window = signal.windows.hann(5)\n",
        "  window *= (1 - 0.92)\n",
        "  window += 0.92\n",
        "\n",
        "  for i, e in enumerate(elementi):\n",
        "    for j in range(5):\n",
        "      povecaj = window[j] * e[1]\n",
        "      niz[min(len(niz) - 1, e[0] + j)] = povecaj\n",
        "  \n",
        "  return niz"
      ],
      "metadata": {
        "id": "mmYrb3ttgDop"
      },
      "execution_count": 660,
      "outputs": []
    },
    {
      "cell_type": "code",
      "execution_count": 661,
      "metadata": {
        "id": "KcWfpXAlD2Pk"
      },
      "outputs": [],
      "source": [
        "def activate():\n",
        "  print(\"AKTIVIRAN SAM IDE GAS SMRT SVETU\")"
      ]
    },
    {
      "cell_type": "code",
      "source": [
        "class Segment:\n",
        "  def __init__(self, pocetak, kraj):\n",
        "    self.pocetak = pocetak\n",
        "    self.kraj = kraj"
      ],
      "metadata": {
        "id": "iUE0DPw9UR7D"
      },
      "execution_count": 662,
      "outputs": []
    },
    {
      "cell_type": "code",
      "source": [
        "org = generisiProbable()\n",
        "print(org)"
      ],
      "metadata": {
        "colab": {
          "base_uri": "https://localhost:8080/"
        },
        "id": "SMCa_tHBXiS1",
        "outputId": "67745215-9b48-4a72-e503-97e53e5b52f0"
      },
      "execution_count": 663,
      "outputs": [
        {
          "output_type": "stream",
          "name": "stdout",
          "text": [
            "[0.1        0.1        0.1        0.1        0.1        0.1\n",
            " 0.1        0.1        0.1        0.1        0.1        0.1\n",
            " 0.1        0.1        0.1        0.1        0.1        0.1\n",
            " 0.1        0.1        0.1        0.1        0.1        0.1\n",
            " 0.1        0.1        0.1        0.1        0.1        0.1\n",
            " 0.1        0.1        0.1        0.1        0.1        0.1\n",
            " 0.1        0.1        0.1        0.1        0.1        0.1\n",
            " 0.1        0.1        0.1        0.1        0.1        0.1\n",
            " 0.1        0.1        0.1        0.1        0.1        0.1\n",
            " 0.1        0.1        0.1        0.1        0.1        0.1\n",
            " 0.1        0.1        0.1        0.1        0.1        0.1\n",
            " 0.1        0.1        0.1        0.1        0.1        0.1\n",
            " 0.1        0.1        0.1        0.1        0.1        0.64451485\n",
            " 0.67253723 0.70055962 0.67253723 0.64451485 0.1        0.1\n",
            " 0.1        0.1        0.1        0.1        0.1        0.1\n",
            " 0.1        0.84249153 0.8791216  0.91575166 0.8791216  0.84249153\n",
            " 0.1        0.1        0.1        0.1        0.1        0.1\n",
            " 0.1        0.1        0.1        0.1        0.1        0.1\n",
            " 0.1        0.1        0.1        0.1        0.1        0.1\n",
            " 0.1        0.1        0.70368704 0.73428213 0.76487722 0.73428213\n",
            " 0.70368704 0.1        0.1        0.1        0.1        0.1\n",
            " 0.1        0.1        0.1        0.1        0.1        0.1\n",
            " 0.1        0.1        0.1        0.1        0.1        0.1\n",
            " 0.1        0.1        0.1        0.1        0.1        0.1\n",
            " 0.1        0.1        0.1        0.1        0.1        0.1\n",
            " 0.1        0.1        0.1        0.75413912 0.78692778 0.81971644\n",
            " 0.78692778 0.75413912 0.1        0.1        0.1        0.1\n",
            " 0.1        0.1        0.1        0.68469638 0.71446578 0.74423519\n",
            " 0.71446578 0.68469638 0.1        0.1        0.1        0.1\n",
            " 0.1        0.1        0.1        0.1        0.1        0.1\n",
            " 0.1        0.1        0.1        0.1        0.1        0.1\n",
            " 0.1        0.60458081 0.63086693 0.65715306 0.63086693 0.60458081\n",
            " 0.1        0.1        0.1        0.1        0.1        0.1\n",
            " 0.1        0.1       ]\n"
          ]
        }
      ]
    },
    {
      "cell_type": "code",
      "source": [
        "niz = org\n",
        "def resenjePocetak(niz, state):\n",
        "    niz[0] = 0.8\n",
        "    resenje = [[-1, 0], [-1, 0]]#nastavak, pocetak\n",
        "    \n",
        "    #gledanje od nastavka\n",
        "    maxi = 0\n",
        "    res = -1\n",
        "    for i in range(-2, razlika - 2):\n",
        "      print(i, \"a\")\n",
        "      index = i + state\n",
        "      if(index > 0 and index < len(niz) - 1):\n",
        "        if(niz[index] > maxi):\n",
        "          maxi = niz[index]\n",
        "          res = index\n",
        "        elif(niz[index] == maxi and abs(state - res) > abs(state - index)): res = index\n",
        "\n",
        "\n",
        "    if(maxi > minSigurno): resenje[0] = [res, maxi]\n",
        "\n",
        "    #gledanje od pocetka\n",
        "    maxi = 0\n",
        "    res = -1\n",
        "    for i in range(razlika // 2 + 1):\n",
        "      if(niz[i] > maxi):\n",
        "        maxi = niz[i]\n",
        "        res = i\n",
        "\n",
        "    if(maxi > minSigurno): resenje[1] = [res, maxi]\n",
        "\n",
        "    return resenje\n",
        "\n",
        "\n",
        "resenjePocetak(niz, 190)"
      ],
      "metadata": {
        "colab": {
          "base_uri": "https://localhost:8080/"
        },
        "id": "HKF6OiToXzDv",
        "outputId": "43b0ca09-fbd2-4daa-96ea-d33d5d367ab6"
      },
      "execution_count": 665,
      "outputs": [
        {
          "output_type": "stream",
          "name": "stdout",
          "text": [
            "-2 a\n",
            "-1 a\n",
            "0 a\n",
            "1 a\n",
            "2 a\n",
            "3 a\n"
          ]
        },
        {
          "output_type": "execute_result",
          "data": {
            "text/plain": [
              "[[189, 0.6571530551017475], [0, 0.8]]"
            ]
          },
          "metadata": {},
          "execution_count": 665
        }
      ]
    },
    {
      "cell_type": "code",
      "source": [
        ""
      ],
      "metadata": {
        "id": "V8LzU9HMs1yt"
      },
      "execution_count": 664,
      "outputs": []
    }
  ]
}