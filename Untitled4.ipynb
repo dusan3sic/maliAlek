{
  "nbformat": 4,
  "nbformat_minor": 0,
  "metadata": {
    "colab": {
      "name": "Untitled4.ipynb",
      "provenance": [],
      "collapsed_sections": [],
      "authorship_tag": "ABX9TyOOtaESgJOx5rveQ9CCIVIK",
      "include_colab_link": true
    },
    "kernelspec": {
      "name": "python3",
      "display_name": "Python 3"
    },
    "language_info": {
      "name": "python"
    }
  },
  "cells": [
    {
      "cell_type": "markdown",
      "metadata": {
        "id": "view-in-github",
        "colab_type": "text"
      },
      "source": [
        "<a href=\"https://colab.research.google.com/github/dusan3sic/maliAlek/blob/main/Untitled4.ipynb\" target=\"_parent\"><img src=\"https://colab.research.google.com/assets/colab-badge.svg\" alt=\"Open In Colab\"/></a>"
      ]
    },
    {
      "cell_type": "code",
      "source": [
        "import numpy as np\n",
        "import random\n",
        "from scipy import signal"
      ],
      "metadata": {
        "id": "SNzg_EDocx9M"
      },
      "execution_count": 125,
      "outputs": []
    },
    {
      "cell_type": "code",
      "source": [
        "def generisiProbable():\n",
        "  minSigurno = 0.6\n",
        "\n",
        "  niz = np.zeros(200)\n",
        "  niz = niz + 0.1\n",
        "\n",
        "  elementi = []\n",
        "\n",
        "  brojSigurnih = random.randint(1, 5)\n",
        "  while(len(elementi) <= brojSigurnih):\n",
        "    index = random.randint(0, len(niz) - 1)\n",
        "    povecaj = random.random() * (1 - minSigurno) + minSigurno\n",
        "    if(niz[index] < minSigurno): elementi.append([index, povecaj])\n",
        "  \n",
        "  window = signal.windows.hann(5)\n",
        "  window *= (1 - 0.92)\n",
        "  window += 0.92\n",
        "\n",
        "  for i, e in enumerate(elementi):\n",
        "    for j in range(5):\n",
        "      povecaj = window[j] * e[1]\n",
        "      niz[min(len(niz) - 1, e[0] + j)] = povecaj\n",
        "  \n",
        "  return niz"
      ],
      "metadata": {
        "id": "mmYrb3ttgDop"
      },
      "execution_count": 126,
      "outputs": []
    },
    {
      "cell_type": "code",
      "execution_count": 127,
      "metadata": {
        "id": "KcWfpXAlD2Pk"
      },
      "outputs": [],
      "source": [
        "def activate():\n",
        "  print(\"AKTIVIRAN SAM IDE GAS SMRT SVETU\")"
      ]
    },
    {
      "cell_type": "code",
      "source": [
        "class Segment:\n",
        "  def __init__(self, pocetak, kraj):\n",
        "    self.pocetak = pocetak\n",
        "    self.kraj = kraj"
      ],
      "metadata": {
        "id": "iUE0DPw9UR7D"
      },
      "execution_count": 128,
      "outputs": []
    },
    {
      "cell_type": "code",
      "source": [
        "end_state = 200\n",
        "sensitivity = 0.05\n",
        "razlika = end_state * sensitivity"
      ],
      "metadata": {
        "id": "nZp49dy5XHxF"
      },
      "execution_count": 129,
      "outputs": []
    },
    {
      "cell_type": "code",
      "source": [
        "def jednako(broj1, broj2):\n",
        "  if(abs(broj1 - broj2) <= razlika): return True\n",
        "  return False"
      ],
      "metadata": {
        "id": "HKF6OiToXzDv"
      },
      "execution_count": 130,
      "outputs": []
    },
    {
      "cell_type": "code",
      "source": [
        "def next_state(state, start, end):\n",
        "  if(jednako(state, start) or jednako(start, 0)): return end\n",
        "  return 0"
      ],
      "metadata": {
        "id": "SMCa_tHBXiS1"
      },
      "execution_count": 131,
      "outputs": []
    },
    {
      "cell_type": "code",
      "source": [
        "# state = 0\n",
        "# while(not jednako(state, end_state)):\n",
        "#   ulaz = list(map(int, input(str(state) +  \":\\t\").split(\" \")))\n",
        "#   segment = Segment(ulaz[0], ulaz[1])\n",
        "#   state = next_state(state, segment.pocetak, segment.kraj)\n",
        "\n",
        "#   # if(state == segment.pocetak): state = segment.kraj\n",
        "#   # elif(segment.pocetak == 0): state = segment.kraj\n",
        "#   # else: state = 0\n",
        "\n",
        "# activate()\n",
        "org = generisiProbable()\n",
        "print(org)"
      ],
      "metadata": {
        "colab": {
          "base_uri": "https://localhost:8080/"
        },
        "id": "yGaOKne-T6iQ",
        "outputId": "d175c61c-3325-4315-871a-474d5bda3607"
      },
      "execution_count": 132,
      "outputs": [
        {
          "output_type": "stream",
          "name": "stdout",
          "text": [
            "[0.1        0.1        0.1        0.1        0.1        0.1\n",
            " 0.1        0.1        0.1        0.1        0.1        0.1\n",
            " 0.1        0.1        0.1        0.1        0.1        0.1\n",
            " 0.1        0.1        0.1        0.1        0.1        0.1\n",
            " 0.1        0.1        0.1        0.1        0.1        0.68366196\n",
            " 0.71338639 0.74311082 0.71338639 0.68366196 0.1        0.1\n",
            " 0.1        0.1        0.1        0.1        0.1        0.1\n",
            " 0.1        0.1        0.1        0.1        0.1        0.1\n",
            " 0.1        0.1        0.1        0.1        0.1        0.1\n",
            " 0.1        0.1        0.1        0.1        0.1        0.1\n",
            " 0.1        0.1        0.1        0.1        0.1        0.1\n",
            " 0.1        0.1        0.1        0.1        0.1        0.1\n",
            " 0.1        0.1        0.1        0.1        0.1        0.1\n",
            " 0.1        0.1        0.1        0.1        0.1        0.1\n",
            " 0.1        0.1        0.1        0.1        0.55575403 0.57991725\n",
            " 0.60408047 0.57991725 0.55575403 0.1        0.1        0.1\n",
            " 0.1        0.1        0.1        0.1        0.1        0.91352655\n",
            " 0.9532451  0.99296364 0.9532451  0.91352655 0.1        0.1\n",
            " 0.1        0.1        0.1        0.1        0.1        0.1\n",
            " 0.1        0.1        0.1        0.1        0.1        0.1\n",
            " 0.64975521 0.67800543 0.70625566 0.67800543 0.64975521 0.1\n",
            " 0.1        0.1        0.1        0.1        0.1        0.1\n",
            " 0.1        0.1        0.1        0.1        0.1        0.1\n",
            " 0.1        0.1        0.87551727 0.91358324 0.95164921 0.91358324\n",
            " 0.87551727 0.1        0.1        0.1        0.1        0.1\n",
            " 0.1        0.1        0.1        0.1        0.1        0.1\n",
            " 0.1        0.1        0.1        0.1        0.1        0.1\n",
            " 0.1        0.1        0.1        0.1        0.1        0.1\n",
            " 0.1        0.1        0.1        0.1        0.1        0.1\n",
            " 0.1        0.1        0.1        0.61304023 0.63969415 0.66634808\n",
            " 0.63969415 0.61304023 0.1        0.1        0.1        0.1\n",
            " 0.1        0.1        0.1        0.1        0.1        0.1\n",
            " 0.1        0.1        0.1        0.1        0.1        0.1\n",
            " 0.1        0.1       ]\n"
          ]
        }
      ]
    },
    {
      "cell_type": "code",
      "source": [
        "niz = org\n",
        "def boduj(niz, state):\n",
        "    sigurnost = np.empty(len(niz))\n",
        "    for i, broj in enumerate(niz):\n",
        "      sigurnost[i] = max(0, broj ** 5)\n",
        "\n",
        "    print(sigurnost)\n",
        "    \n",
        "    return niz\n",
        "\n",
        "boduj(niz, 80)\n",
        "# print(boduj(niz, 80))\n"
      ],
      "metadata": {
        "colab": {
          "base_uri": "https://localhost:8080/"
        },
        "id": "Weyle_qcoC1e",
        "outputId": "ef2eaec2-7296-4dbb-c7ff-af3e92096562"
      },
      "execution_count": 136,
      "outputs": [
        {
          "output_type": "stream",
          "name": "stdout",
          "text": [
            "[0.         0.         0.         0.         0.         0.\n",
            " 0.         0.         0.         0.         0.         0.\n",
            " 0.         0.         0.         0.         0.         0.\n",
            " 0.         0.         0.         0.         0.         0.\n",
            " 0.         0.         0.         0.         0.         0.09935063\n",
            " 0.13476687 0.17660419 0.13476687 0.09935063 0.         0.\n",
            " 0.         0.         0.         0.         0.         0.\n",
            " 0.         0.         0.         0.         0.         0.\n",
            " 0.         0.         0.         0.         0.         0.\n",
            " 0.         0.         0.         0.         0.         0.\n",
            " 0.         0.         0.         0.         0.         0.\n",
            " 0.         0.         0.         0.         0.         0.\n",
            " 0.         0.         0.         0.         0.         0.\n",
            " 0.         0.         0.         0.         0.         0.\n",
            " 0.         0.         0.         0.         0.00301675 0.01558887\n",
            " 0.03044036 0.01558887 0.00301675 0.         0.         0.\n",
            " 0.         0.         0.         0.         0.         0.58621789\n",
            " 0.7370873  0.91530985 0.7370873  0.58621789 0.         0.\n",
            " 0.         0.         0.         0.         0.         0.\n",
            " 0.         0.         0.         0.         0.         0.\n",
            " 0.06581074 0.0932735  0.12571535 0.0932735  0.06581074 0.\n",
            " 0.         0.         0.         0.         0.         0.\n",
            " 0.         0.         0.         0.         0.         0.\n",
            " 0.         0.         0.46442681 0.58641532 0.73052076 0.58641532\n",
            " 0.46442681 0.         0.         0.         0.         0.\n",
            " 0.         0.         0.         0.         0.         0.\n",
            " 0.         0.         0.         0.         0.         0.\n",
            " 0.         0.         0.         0.         0.         0.\n",
            " 0.         0.         0.         0.         0.         0.\n",
            " 0.         0.         0.         0.03658544 0.05711786 0.08137289\n",
            " 0.05711786 0.03658544 0.         0.         0.         0.\n",
            " 0.         0.         0.         0.         0.         0.\n",
            " 0.         0.         0.         0.         0.         0.\n",
            " 0.         0.        ]\n"
          ]
        },
        {
          "output_type": "execute_result",
          "data": {
            "text/plain": [
              "array([0.1       , 0.1       , 0.1       , 0.1       , 0.1       ,\n",
              "       0.1       , 0.1       , 0.1       , 0.1       , 0.1       ,\n",
              "       0.1       , 0.1       , 0.1       , 0.1       , 0.1       ,\n",
              "       0.1       , 0.1       , 0.1       , 0.1       , 0.1       ,\n",
              "       0.1       , 0.1       , 0.1       , 0.1       , 0.1       ,\n",
              "       0.1       , 0.1       , 0.1       , 0.1       , 0.68366196,\n",
              "       0.71338639, 0.74311082, 0.71338639, 0.68366196, 0.1       ,\n",
              "       0.1       , 0.1       , 0.1       , 0.1       , 0.1       ,\n",
              "       0.1       , 0.1       , 0.1       , 0.1       , 0.1       ,\n",
              "       0.1       , 0.1       , 0.1       , 0.1       , 0.1       ,\n",
              "       0.1       , 0.1       , 0.1       , 0.1       , 0.1       ,\n",
              "       0.1       , 0.1       , 0.1       , 0.1       , 0.1       ,\n",
              "       0.1       , 0.1       , 0.1       , 0.1       , 0.1       ,\n",
              "       0.1       , 0.1       , 0.1       , 0.1       , 0.1       ,\n",
              "       0.1       , 0.1       , 0.1       , 0.1       , 0.1       ,\n",
              "       0.1       , 0.1       , 0.1       , 0.1       , 0.1       ,\n",
              "       0.1       , 0.1       , 0.1       , 0.1       , 0.1       ,\n",
              "       0.1       , 0.1       , 0.1       , 0.55575403, 0.57991725,\n",
              "       0.60408047, 0.57991725, 0.55575403, 0.1       , 0.1       ,\n",
              "       0.1       , 0.1       , 0.1       , 0.1       , 0.1       ,\n",
              "       0.1       , 0.91352655, 0.9532451 , 0.99296364, 0.9532451 ,\n",
              "       0.91352655, 0.1       , 0.1       , 0.1       , 0.1       ,\n",
              "       0.1       , 0.1       , 0.1       , 0.1       , 0.1       ,\n",
              "       0.1       , 0.1       , 0.1       , 0.1       , 0.1       ,\n",
              "       0.64975521, 0.67800543, 0.70625566, 0.67800543, 0.64975521,\n",
              "       0.1       , 0.1       , 0.1       , 0.1       , 0.1       ,\n",
              "       0.1       , 0.1       , 0.1       , 0.1       , 0.1       ,\n",
              "       0.1       , 0.1       , 0.1       , 0.1       , 0.1       ,\n",
              "       0.87551727, 0.91358324, 0.95164921, 0.91358324, 0.87551727,\n",
              "       0.1       , 0.1       , 0.1       , 0.1       , 0.1       ,\n",
              "       0.1       , 0.1       , 0.1       , 0.1       , 0.1       ,\n",
              "       0.1       , 0.1       , 0.1       , 0.1       , 0.1       ,\n",
              "       0.1       , 0.1       , 0.1       , 0.1       , 0.1       ,\n",
              "       0.1       , 0.1       , 0.1       , 0.1       , 0.1       ,\n",
              "       0.1       , 0.1       , 0.1       , 0.1       , 0.1       ,\n",
              "       0.1       , 0.1       , 0.61304023, 0.63969415, 0.66634808,\n",
              "       0.63969415, 0.61304023, 0.1       , 0.1       , 0.1       ,\n",
              "       0.1       , 0.1       , 0.1       , 0.1       , 0.1       ,\n",
              "       0.1       , 0.1       , 0.1       , 0.1       , 0.1       ,\n",
              "       0.1       , 0.1       , 0.1       , 0.1       , 0.1       ])"
            ]
          },
          "metadata": {},
          "execution_count": 136
        }
      ]
    },
    {
      "cell_type": "code",
      "source": [
        ""
      ],
      "metadata": {
        "id": "V8LzU9HMs1yt"
      },
      "execution_count": 133,
      "outputs": []
    }
  ]
}