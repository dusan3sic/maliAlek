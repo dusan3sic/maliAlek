{
  "nbformat": 4,
  "nbformat_minor": 0,
  "metadata": {
    "colab": {
      "name": "Untitled1.ipynb",
      "provenance": [],
      "collapsed_sections": []
    },
    "kernelspec": {
      "name": "python3",
      "display_name": "Python 3"
    },
    "language_info": {
      "name": "python"
    }
  },
  "cells": [
    {
      "cell_type": "code",
      "execution_count": 7,
      "metadata": {
        "id": "tUEKYL8zQXDE",
        "outputId": "ebe8ac98-eb34-4333-de54-d74ef2f09ae0",
        "colab": {
          "base_uri": "https://localhost:8080/",
          "height": 384
        }
      },
      "outputs": [
        {
          "output_type": "error",
          "ename": "ModuleNotFoundError",
          "evalue": "ignored",
          "traceback": [
            "\u001b[0;31m---------------------------------------------------------------------------\u001b[0m",
            "\u001b[0;31mModuleNotFoundError\u001b[0m                       Traceback (most recent call last)",
            "\u001b[0;32m<ipython-input-7-6196c2ff165d>\u001b[0m in \u001b[0;36m<module>\u001b[0;34m\u001b[0m\n\u001b[1;32m      1\u001b[0m \u001b[0;32mimport\u001b[0m \u001b[0mnumpy\u001b[0m \u001b[0;32mas\u001b[0m \u001b[0mnp\u001b[0m\u001b[0;34m\u001b[0m\u001b[0;34m\u001b[0m\u001b[0m\n\u001b[1;32m      2\u001b[0m \u001b[0;32mimport\u001b[0m \u001b[0mwave\u001b[0m\u001b[0;34m\u001b[0m\u001b[0;34m\u001b[0m\u001b[0m\n\u001b[0;32m----> 3\u001b[0;31m \u001b[0;32mimport\u001b[0m \u001b[0mfunkcije\u001b[0m\u001b[0;34m\u001b[0m\u001b[0;34m\u001b[0m\u001b[0m\n\u001b[0m\u001b[1;32m      4\u001b[0m \u001b[0;32mfrom\u001b[0m \u001b[0mpomagala\u001b[0m \u001b[0;32mimport\u001b[0m \u001b[0;34m*\u001b[0m\u001b[0;34m\u001b[0m\u001b[0;34m\u001b[0m\u001b[0m\n\u001b[1;32m      5\u001b[0m \u001b[0;32mfrom\u001b[0m \u001b[0mkonstante\u001b[0m \u001b[0;32mimport\u001b[0m \u001b[0;34m*\u001b[0m\u001b[0;34m\u001b[0m\u001b[0;34m\u001b[0m\u001b[0m\n",
            "\u001b[0;31mModuleNotFoundError\u001b[0m: No module named 'funkcije'",
            "",
            "\u001b[0;31m---------------------------------------------------------------------------\u001b[0;32m\nNOTE: If your import is failing due to a missing package, you can\nmanually install dependencies using either !pip or !apt.\n\nTo view examples of installing some common dependencies, click the\n\"Open Examples\" button below.\n\u001b[0;31m---------------------------------------------------------------------------\u001b[0m\n"
          ],
          "errorDetails": {
            "actions": [
              {
                "action": "open_url",
                "actionText": "Open Examples",
                "url": "/notebooks/snippets/importing_libraries.ipynb"
              }
            ]
          }
        }
      ],
      "source": [
        "import numpy as np\n",
        "import wave\n",
        "import maliAlek.funkcije\n",
        "from maliAlek.pomagala import *\n",
        "from maliAlek.konstante import *\n",
        "import scipy.signal\n",
        "import matplotlib.image as mpimg"
      ]
    },
    {
      "cell_type": "code",
      "source": [
        "raw = wave.open(\"./ulaz.wav\")\n",
        "signal = raw.readframes(-1)\n",
        "fs = raw.getframerate()\n",
        "\n",
        "signal = np.frombuffer(signal, dtype =\"int16\").astype(\"int64\")\n",
        "signal = signal[:(len(signal) // framesInSegment) * framesInSegment]\n",
        "\n",
        "\n",
        "time = np.linspace(0, len(signal) / sampleRate, num = len(signal))"
      ],
      "metadata": {
        "id": "gpHt6tQKSc7x"
      },
      "execution_count": null,
      "outputs": []
    },
    {
      "cell_type": "code",
      "source": [
        "plotuj(time, signal)"
      ],
      "metadata": {
        "colab": {
          "base_uri": "https://localhost:8080/",
          "height": 169
        },
        "id": "ug0-HUAgVExv",
        "outputId": "a7244b65-e429-4be1-c9cf-e4334176af87"
      },
      "execution_count": 8,
      "outputs": [
        {
          "output_type": "error",
          "ename": "NameError",
          "evalue": "ignored",
          "traceback": [
            "\u001b[0;31m---------------------------------------------------------------------------\u001b[0m",
            "\u001b[0;31mNameError\u001b[0m                                 Traceback (most recent call last)",
            "\u001b[0;32m<ipython-input-8-02195f964167>\u001b[0m in \u001b[0;36m<module>\u001b[0;34m\u001b[0m\n\u001b[0;32m----> 1\u001b[0;31m \u001b[0mplotuj\u001b[0m\u001b[0;34m(\u001b[0m\u001b[0mtime\u001b[0m\u001b[0;34m,\u001b[0m \u001b[0msignal\u001b[0m\u001b[0;34m)\u001b[0m\u001b[0;34m\u001b[0m\u001b[0;34m\u001b[0m\u001b[0m\n\u001b[0m",
            "\u001b[0;31mNameError\u001b[0m: name 'time' is not defined"
          ]
        }
      ]
    },
    {
      "cell_type": "code",
      "source": [
        "signal = separate(signal, framesInSegment, len(signal))\n",
        "activity = [] #lista za aktivnost svakog segmenta\n",
        "activeSegments = []\n",
        "\n",
        "for i, delic in enumerate(signal):\n",
        "    time = np.linspace((i * segmentDuration // 2) / sampleRate, (i * segmentDuration // 2 + segmentDuration) / sampleRate, num = framesInSegment) * 50\n",
        "    if(funkcije.active(delic, activity[-60:])):\n",
        "        activity.append(True)\n",
        "        plotuj(time, delic) \n",
        "        activeSegments.append(delic)\n",
        "    else:\n",
        "        activity.append(False)\n",
        "        activeSegments.append(delic)"
      ],
      "metadata": {
        "id": "8WskfHhFVFqB"
      },
      "execution_count": null,
      "outputs": []
    },
    {
      "cell_type": "code",
      "source": [
        "windowing = scipy.signal.get_window(\"hann\", framesInSegment)\n",
        "\n",
        "n = len(activeSegments)\n",
        "time = np.linspace(0, segmentDuration * n, n)\n",
        "\n",
        "magnitudes = np.zeros([len(activeSegments), framesInSegment])\n",
        "\n",
        "for i, segment in enumerate(activeSegments):\n",
        "    segment = windowing * segment\n",
        "    segment_ft = np.fft.fft(segment)\n",
        "    magnitudes[i] = np.abs(segment_ft[:len(segment_ft // 2)])"
      ],
      "metadata": {
        "id": "3vzHpPgoVTmQ"
      },
      "execution_count": null,
      "outputs": []
    },
    {
      "cell_type": "code",
      "source": [
        "!git clone adasdhaslkjdhasd"
      ],
      "metadata": {
        "id": "9xOx9HyKsxLI"
      },
      "execution_count": null,
      "outputs": []
    },
    {
      "cell_type": "code",
      "source": [
        "plotuj(np.linspace(0, sampleRate // 2, len(magnitudes[-1])), magnitudes[-1])"
      ],
      "metadata": {
        "id": "PZUXrOtzVWcE"
      },
      "execution_count": null,
      "outputs": []
    },
    {
      "cell_type": "code",
      "source": [
        "magnitudes[-1] = funkcije.log_spectrum(magnitudes[-1])\n",
        "plotuj(np.linspace(0, sampleRate // 2, len(magnitudes[-1])), magnitudes[-1])"
      ],
      "metadata": {
        "id": "Vrj63OuLhI5G"
      },
      "execution_count": null,
      "outputs": []
    },
    {
      "cell_type": "code",
      "source": [
        "magnitudes"
      ],
      "metadata": {
        "id": "L0bk6pKgoitA"
      },
      "execution_count": null,
      "outputs": []
    },
    {
      "cell_type": "code",
      "source": [
        ""
      ],
      "metadata": {
        "id": "hXIRjYbzpIj3"
      },
      "execution_count": null,
      "outputs": []
    }
  ]
}